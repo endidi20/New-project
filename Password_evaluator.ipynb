{
 "cells": [
  {
   "cell_type": "code",
   "execution_count": 2,
   "id": "48bc1f12",
   "metadata": {},
   "outputs": [],
   "source": [
    "# This project is to write a program that evaluates potential passwords to detemine their strength by assigning numerical scores.\n",
    "\n",
    "# The code should repeatedly ask the user for a password to evaluate, quitting only when a 'q' or 'Q' is entered.\n",
    "\n",
    "# The score is computed and printed for each password\n",
    "\n",
    "# The code includes functions that checks for length, case, and content.\n",
    "\n",
    "# And the main function that accepts no parameters and returns no value, but contains the loop that allows users to process \n",
    "# as many passwords as desired."
   ]
  },
  {
   "cell_type": "code",
   "execution_count": 3,
   "id": "9a5a223c",
   "metadata": {},
   "outputs": [],
   "source": [
    "# Define a function to check the lenght of the password.      \n",
    "def check_length(pwd):\n",
    "        \n",
    "        lentp = len(pwd) # This calculates the length of the password\n",
    "        if lentp < 8: # If length is less than 8, it returns 1\n",
    "            return 1\n",
    "        \n",
    "        elif lentp >=8 and lentp <= 11: # If length is between 8 and 11 (inclusive), it returns 2\n",
    "            return 2\n",
    "        \n",
    "        else: # If otherwise, that is length is greater than 11, it returns 3\n",
    "            return 3\n",
    "\n",
    "    # Define a function to evaluate a case score for the password  \n",
    "def check_case(pwd):\n",
    "        \n",
    "        if(pwd.isupper() or pwd.islower()): # If password contains only uppercase or only lowercase, it returns 1\n",
    "            return 1\n",
    "        \n",
    "        else: # If otherwise, that is password contains a mix of upper and lower cases (or no letters at all), it returns 2\n",
    "            return 2\n",
    "\n",
    "    \n",
    "    # Define a function to evaluate the password's content score\n",
    "def check_content(pwd):\n",
    "        \n",
    "        if(pwd.isalpha()): # If password is only alphabets, it returns 1\n",
    "            return 1\n",
    "        \n",
    "        # If password is all numeric or alphanumeric, it returns 2\n",
    "        elif(pwd.isnumeric() or pwd.isalnum()):\n",
    "            return 2\n",
    "        \n",
    "        else: # If otherwise, that is password contains other type of characters(such as punctuation symbols), it returns 3\n",
    "            return 3\n",
    "    "
   ]
  },
  {
   "cell_type": "code",
   "execution_count": 4,
   "id": "fb17332d",
   "metadata": {},
   "outputs": [],
   "source": [
    "# The main function where all outputs are printed\n",
    "\n",
    "def main():\n",
    "    print(\"Welcome to the Password Evaluator!\")\n",
    "    \n",
    "    # To insert a blank line between printed outputs\n",
    "    print()\n",
    "    \n",
    "    # This prompts the user for password\n",
    "    pwd = input('Enter a password or \"q\" to quit: ')\n",
    "    \n",
    "    # The while loop to process multiple passwords\n",
    "    while pwd.upper() != \"Q\":\n",
    "        \n",
    "        # This sums up the scores from the functions defined earlier\n",
    "        score = check_length(pwd) + check_case(pwd)  + check_content(pwd)\n",
    "        \n",
    "        # The following block of conditional statements evaluates the computed scores and prints out the passowrd strength\n",
    "        if (score <= 5):\n",
    "            print(\"Score:\", score)\n",
    "            print(\"This password is weak!\")\n",
    "            print('')\n",
    "            \n",
    "        elif (score >= 6 and score <= 7):\n",
    "            print(\"Score:\", score)\n",
    "            print(\"This password is moderately strong.\")\n",
    "            print(\"\")\n",
    "            \n",
    "        else :\n",
    "            print(\"Score:\" , score)\n",
    "            print(\"This password is strong!\")\n",
    "            print()\n",
    "            \n",
    "        pwd = input('Enter a password or \"q\" to quit: ')\n",
    "\n",
    "    \n",
    "    # This block is used to break out of the loop when 'q' is entered as the password\n",
    "    else:\n",
    "        print('')\n",
    "        print(\"Thanks for using the Password Evaluator!\")"
   ]
  },
  {
   "cell_type": "code",
   "execution_count": 5,
   "id": "3b910163",
   "metadata": {},
   "outputs": [
    {
     "name": "stdout",
     "output_type": "stream",
     "text": [
      "Welcome to the Password Evaluator!\n",
      "\n",
      "Enter a password or \"q\" to quit: Kiddo\n",
      "Score: 4\n",
      "This password is weak!\n",
      "\n",
      "Enter a password or \"q\" to quit: MyNewPassword\n",
      "Score: 6\n",
      "This password is moderately strong.\n",
      "\n",
      "Enter a password or \"q\" to quit: OneL@stTrialfortheR0ad\n",
      "Score: 8\n",
      "This password is strong!\n",
      "\n",
      "Enter a password or \"q\" to quit: q\n",
      "\n",
      "Thanks for using the Password Evaluator!\n"
     ]
    }
   ],
   "source": [
    "if __name__ == \"__main__\":\n",
    "    main()"
   ]
  }
 ],
 "metadata": {
  "kernelspec": {
   "display_name": "Python 3",
   "language": "python",
   "name": "python3"
  },
  "language_info": {
   "codemirror_mode": {
    "name": "ipython",
    "version": 3
   },
   "file_extension": ".py",
   "mimetype": "text/x-python",
   "name": "python",
   "nbconvert_exporter": "python",
   "pygments_lexer": "ipython3",
   "version": "3.8.8"
  }
 },
 "nbformat": 4,
 "nbformat_minor": 5
}
